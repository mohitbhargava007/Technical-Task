{
 "cells": [
  {
   "cell_type": "markdown",
   "metadata": {},
   "source": [
    "### Import required Libraries"
   ]
  },
  {
   "cell_type": "code",
   "execution_count": 1,
   "metadata": {},
   "outputs": [],
   "source": [
    "import gzip\n",
    "import shutil\n",
    "import pandas as pd\n",
    "import os"
   ]
  },
  {
   "cell_type": "markdown",
   "metadata": {},
   "source": [
    "### Unzip the installed .gz file"
   ]
  },
  {
   "cell_type": "code",
   "execution_count": 2,
   "metadata": {},
   "outputs": [],
   "source": [
    "with gzip.open('C:/Mohit/IMDb/name.basics.tsv.gz', 'rb') as f_in:\n",
    "    with open('name.basics.txt', 'wb') as f_out:\n",
    "        shutil.copyfileobj(f_in, f_out)"
   ]
  },
  {
   "cell_type": "markdown",
   "metadata": {},
   "source": [
    "### Create a dataframe to transform data"
   ]
  },
  {
   "cell_type": "code",
   "execution_count": 3,
   "metadata": {
    "collapsed": true,
    "jupyter": {
     "outputs_hidden": true
    }
   },
   "outputs": [
    {
     "data": {
      "text/html": [
       "<div>\n",
       "<style scoped>\n",
       "    .dataframe tbody tr th:only-of-type {\n",
       "        vertical-align: middle;\n",
       "    }\n",
       "\n",
       "    .dataframe tbody tr th {\n",
       "        vertical-align: top;\n",
       "    }\n",
       "\n",
       "    .dataframe thead th {\n",
       "        text-align: right;\n",
       "    }\n",
       "</style>\n",
       "<table border=\"1\" class=\"dataframe\">\n",
       "  <thead>\n",
       "    <tr style=\"text-align: right;\">\n",
       "      <th></th>\n",
       "      <th>nconst</th>\n",
       "      <th>primaryName</th>\n",
       "      <th>birthYear</th>\n",
       "      <th>deathYear</th>\n",
       "      <th>primaryProfession</th>\n",
       "      <th>knownForTitles</th>\n",
       "    </tr>\n",
       "  </thead>\n",
       "  <tbody>\n",
       "    <tr>\n",
       "      <th>0</th>\n",
       "      <td>nm0000001</td>\n",
       "      <td>Fred Astaire</td>\n",
       "      <td>1899</td>\n",
       "      <td>1987</td>\n",
       "      <td>soundtrack,actor,miscellaneous</td>\n",
       "      <td>tt0053137,tt0072308,tt0050419,tt0031983</td>\n",
       "    </tr>\n",
       "    <tr>\n",
       "      <th>1</th>\n",
       "      <td>nm0000002</td>\n",
       "      <td>Lauren Bacall</td>\n",
       "      <td>1924</td>\n",
       "      <td>2014</td>\n",
       "      <td>actress,soundtrack</td>\n",
       "      <td>tt0037382,tt0038355,tt0071877,tt0117057</td>\n",
       "    </tr>\n",
       "    <tr>\n",
       "      <th>2</th>\n",
       "      <td>nm0000003</td>\n",
       "      <td>Brigitte Bardot</td>\n",
       "      <td>1934</td>\n",
       "      <td>\\N</td>\n",
       "      <td>actress,soundtrack,music_department</td>\n",
       "      <td>tt0056404,tt0057345,tt0049189,tt0054452</td>\n",
       "    </tr>\n",
       "    <tr>\n",
       "      <th>3</th>\n",
       "      <td>nm0000004</td>\n",
       "      <td>John Belushi</td>\n",
       "      <td>1949</td>\n",
       "      <td>1982</td>\n",
       "      <td>actor,soundtrack,writer</td>\n",
       "      <td>tt0080455,tt0077975,tt0078723,tt0072562</td>\n",
       "    </tr>\n",
       "    <tr>\n",
       "      <th>4</th>\n",
       "      <td>nm0000005</td>\n",
       "      <td>Ingmar Bergman</td>\n",
       "      <td>1918</td>\n",
       "      <td>2007</td>\n",
       "      <td>writer,director,actor</td>\n",
       "      <td>tt0083922,tt0050986,tt0069467,tt0060827</td>\n",
       "    </tr>\n",
       "  </tbody>\n",
       "</table>\n",
       "</div>"
      ],
      "text/plain": [
       "      nconst      primaryName birthYear deathYear                    primaryProfession                           knownForTitles\n",
       "0  nm0000001     Fred Astaire      1899      1987       soundtrack,actor,miscellaneous  tt0053137,tt0072308,tt0050419,tt0031983\n",
       "1  nm0000002    Lauren Bacall      1924      2014                   actress,soundtrack  tt0037382,tt0038355,tt0071877,tt0117057\n",
       "2  nm0000003  Brigitte Bardot      1934        \\N  actress,soundtrack,music_department  tt0056404,tt0057345,tt0049189,tt0054452\n",
       "3  nm0000004     John Belushi      1949      1982              actor,soundtrack,writer  tt0080455,tt0077975,tt0078723,tt0072562\n",
       "4  nm0000005   Ingmar Bergman      1918      2007                writer,director,actor  tt0083922,tt0050986,tt0069467,tt0060827"
      ]
     },
     "execution_count": 3,
     "metadata": {},
     "output_type": "execute_result"
    }
   ],
   "source": [
    "df = pd.read_csv('C:/Mohit/Git/Technical-Task/name.basics.txt', sep='\\t')\n",
    "pd.set_option('display.width', 70000)\n",
    "df.head()"
   ]
  },
  {
   "cell_type": "markdown",
   "metadata": {},
   "source": [
    "### Split Column 'primaryProfession' to filter out first of 3 profession "
   ]
  },
  {
   "cell_type": "code",
   "execution_count": 4,
   "metadata": {
    "collapsed": true,
    "jupyter": {
     "outputs_hidden": true
    }
   },
   "outputs": [
    {
     "data": {
      "text/html": [
       "<div>\n",
       "<style scoped>\n",
       "    .dataframe tbody tr th:only-of-type {\n",
       "        vertical-align: middle;\n",
       "    }\n",
       "\n",
       "    .dataframe tbody tr th {\n",
       "        vertical-align: top;\n",
       "    }\n",
       "\n",
       "    .dataframe thead th {\n",
       "        text-align: right;\n",
       "    }\n",
       "</style>\n",
       "<table border=\"1\" class=\"dataframe\">\n",
       "  <thead>\n",
       "    <tr style=\"text-align: right;\">\n",
       "      <th></th>\n",
       "      <th>nconst</th>\n",
       "      <th>primaryName</th>\n",
       "      <th>birthYear</th>\n",
       "      <th>deathYear</th>\n",
       "      <th>primaryProfession</th>\n",
       "      <th>knownForTitles</th>\n",
       "      <th>P1</th>\n",
       "      <th>P2</th>\n",
       "      <th>P3</th>\n",
       "    </tr>\n",
       "  </thead>\n",
       "  <tbody>\n",
       "    <tr>\n",
       "      <th>0</th>\n",
       "      <td>nm0000001</td>\n",
       "      <td>Fred Astaire</td>\n",
       "      <td>1899</td>\n",
       "      <td>1987</td>\n",
       "      <td>soundtrack,actor,miscellaneous</td>\n",
       "      <td>tt0053137,tt0072308,tt0050419,tt0031983</td>\n",
       "      <td>soundtrack</td>\n",
       "      <td>actor</td>\n",
       "      <td>miscellaneous</td>\n",
       "    </tr>\n",
       "    <tr>\n",
       "      <th>1</th>\n",
       "      <td>nm0000002</td>\n",
       "      <td>Lauren Bacall</td>\n",
       "      <td>1924</td>\n",
       "      <td>2014</td>\n",
       "      <td>actress,soundtrack</td>\n",
       "      <td>tt0037382,tt0038355,tt0071877,tt0117057</td>\n",
       "      <td>actress</td>\n",
       "      <td>soundtrack</td>\n",
       "      <td>None</td>\n",
       "    </tr>\n",
       "    <tr>\n",
       "      <th>2</th>\n",
       "      <td>nm0000003</td>\n",
       "      <td>Brigitte Bardot</td>\n",
       "      <td>1934</td>\n",
       "      <td>\\N</td>\n",
       "      <td>actress,soundtrack,music_department</td>\n",
       "      <td>tt0056404,tt0057345,tt0049189,tt0054452</td>\n",
       "      <td>actress</td>\n",
       "      <td>soundtrack</td>\n",
       "      <td>music_department</td>\n",
       "    </tr>\n",
       "    <tr>\n",
       "      <th>3</th>\n",
       "      <td>nm0000004</td>\n",
       "      <td>John Belushi</td>\n",
       "      <td>1949</td>\n",
       "      <td>1982</td>\n",
       "      <td>actor,soundtrack,writer</td>\n",
       "      <td>tt0080455,tt0077975,tt0078723,tt0072562</td>\n",
       "      <td>actor</td>\n",
       "      <td>soundtrack</td>\n",
       "      <td>writer</td>\n",
       "    </tr>\n",
       "    <tr>\n",
       "      <th>4</th>\n",
       "      <td>nm0000005</td>\n",
       "      <td>Ingmar Bergman</td>\n",
       "      <td>1918</td>\n",
       "      <td>2007</td>\n",
       "      <td>writer,director,actor</td>\n",
       "      <td>tt0083922,tt0050986,tt0069467,tt0060827</td>\n",
       "      <td>writer</td>\n",
       "      <td>director</td>\n",
       "      <td>actor</td>\n",
       "    </tr>\n",
       "  </tbody>\n",
       "</table>\n",
       "</div>"
      ],
      "text/plain": [
       "      nconst      primaryName birthYear deathYear                    primaryProfession                           knownForTitles          P1          P2                P3\n",
       "0  nm0000001     Fred Astaire      1899      1987       soundtrack,actor,miscellaneous  tt0053137,tt0072308,tt0050419,tt0031983  soundtrack       actor     miscellaneous\n",
       "1  nm0000002    Lauren Bacall      1924      2014                   actress,soundtrack  tt0037382,tt0038355,tt0071877,tt0117057     actress  soundtrack              None\n",
       "2  nm0000003  Brigitte Bardot      1934        \\N  actress,soundtrack,music_department  tt0056404,tt0057345,tt0049189,tt0054452     actress  soundtrack  music_department\n",
       "3  nm0000004     John Belushi      1949      1982              actor,soundtrack,writer  tt0080455,tt0077975,tt0078723,tt0072562       actor  soundtrack            writer\n",
       "4  nm0000005   Ingmar Bergman      1918      2007                writer,director,actor  tt0083922,tt0050986,tt0069467,tt0060827      writer    director             actor"
      ]
     },
     "execution_count": 4,
     "metadata": {},
     "output_type": "execute_result"
    }
   ],
   "source": [
    "df[['P1', 'P2', 'P3']] = df['primaryProfession'].str.split(',', expand=True)\n",
    "df.head()"
   ]
  },
  {
   "cell_type": "markdown",
   "metadata": {},
   "source": [
    "### Dataframe showing people who are still 'alive' and their first of 3 profession is 'producer'"
   ]
  },
  {
   "cell_type": "code",
   "execution_count": 5,
   "metadata": {
    "collapsed": true,
    "jupyter": {
     "outputs_hidden": true
    }
   },
   "outputs": [
    {
     "data": {
      "text/html": [
       "<div>\n",
       "<style scoped>\n",
       "    .dataframe tbody tr th:only-of-type {\n",
       "        vertical-align: middle;\n",
       "    }\n",
       "\n",
       "    .dataframe tbody tr th {\n",
       "        vertical-align: top;\n",
       "    }\n",
       "\n",
       "    .dataframe thead th {\n",
       "        text-align: right;\n",
       "    }\n",
       "</style>\n",
       "<table border=\"1\" class=\"dataframe\">\n",
       "  <thead>\n",
       "    <tr style=\"text-align: right;\">\n",
       "      <th></th>\n",
       "      <th>nconst</th>\n",
       "      <th>primaryName</th>\n",
       "      <th>birthYear</th>\n",
       "      <th>deathYear</th>\n",
       "      <th>primaryProfession</th>\n",
       "      <th>knownForTitles</th>\n",
       "      <th>P1</th>\n",
       "      <th>P2</th>\n",
       "      <th>P3</th>\n",
       "    </tr>\n",
       "  </thead>\n",
       "  <tbody>\n",
       "    <tr>\n",
       "      <th>105</th>\n",
       "      <td>nm0000106</td>\n",
       "      <td>Drew Barrymore</td>\n",
       "      <td>1975</td>\n",
       "      <td>\\N</td>\n",
       "      <td>producer,actress,soundtrack</td>\n",
       "      <td>tt0343660,tt0160127,tt0151738,tt0120631</td>\n",
       "      <td>producer</td>\n",
       "      <td>actress</td>\n",
       "      <td>soundtrack</td>\n",
       "    </tr>\n",
       "    <tr>\n",
       "      <th>112</th>\n",
       "      <td>nm0000113</td>\n",
       "      <td>Sandra Bullock</td>\n",
       "      <td>1964</td>\n",
       "      <td>\\N</td>\n",
       "      <td>producer,actress,soundtrack</td>\n",
       "      <td>tt1454468,tt0111257,tt1041829,tt0212346</td>\n",
       "      <td>producer</td>\n",
       "      <td>actress</td>\n",
       "      <td>soundtrack</td>\n",
       "    </tr>\n",
       "    <tr>\n",
       "      <th>157</th>\n",
       "      <td>nm0000158</td>\n",
       "      <td>Tom Hanks</td>\n",
       "      <td>1956</td>\n",
       "      <td>\\N</td>\n",
       "      <td>producer,actor,soundtrack</td>\n",
       "      <td>tt0120815,tt0109830,tt0094737,tt0162222</td>\n",
       "      <td>producer</td>\n",
       "      <td>actor</td>\n",
       "      <td>soundtrack</td>\n",
       "    </tr>\n",
       "    <tr>\n",
       "      <th>216</th>\n",
       "      <td>nm0000217</td>\n",
       "      <td>Martin Scorsese</td>\n",
       "      <td>1942</td>\n",
       "      <td>\\N</td>\n",
       "      <td>producer,director,actor</td>\n",
       "      <td>tt0106226,tt0070379,tt0099685,tt0075314</td>\n",
       "      <td>producer</td>\n",
       "      <td>director</td>\n",
       "      <td>actor</td>\n",
       "    </tr>\n",
       "    <tr>\n",
       "      <th>218</th>\n",
       "      <td>nm0000219</td>\n",
       "      <td>Steven Seagal</td>\n",
       "      <td>1952</td>\n",
       "      <td>\\N</td>\n",
       "      <td>producer,actor,writer</td>\n",
       "      <td>tt0110725,tt0105690,tt0094602,tt0242445</td>\n",
       "      <td>producer</td>\n",
       "      <td>actor</td>\n",
       "      <td>writer</td>\n",
       "    </tr>\n",
       "  </tbody>\n",
       "</table>\n",
       "</div>"
      ],
      "text/plain": [
       "        nconst      primaryName birthYear deathYear            primaryProfession                           knownForTitles        P1        P2          P3\n",
       "105  nm0000106   Drew Barrymore      1975        \\N  producer,actress,soundtrack  tt0343660,tt0160127,tt0151738,tt0120631  producer   actress  soundtrack\n",
       "112  nm0000113   Sandra Bullock      1964        \\N  producer,actress,soundtrack  tt1454468,tt0111257,tt1041829,tt0212346  producer   actress  soundtrack\n",
       "157  nm0000158        Tom Hanks      1956        \\N    producer,actor,soundtrack  tt0120815,tt0109830,tt0094737,tt0162222  producer     actor  soundtrack\n",
       "216  nm0000217  Martin Scorsese      1942        \\N      producer,director,actor  tt0106226,tt0070379,tt0099685,tt0075314  producer  director       actor\n",
       "218  nm0000219    Steven Seagal      1952        \\N        producer,actor,writer  tt0110725,tt0105690,tt0094602,tt0242445  producer     actor      writer"
      ]
     },
     "execution_count": 5,
     "metadata": {},
     "output_type": "execute_result"
    }
   ],
   "source": [
    "df = df[(df['P1']=='producer') & (df['deathYear']=='\\\\N')]\n",
    "df.head()"
   ]
  },
  {
   "cell_type": "markdown",
   "metadata": {},
   "source": [
    "### Dataframe showing no of people who are still 'alive' and their first of 3 profession is 'producer'"
   ]
  },
  {
   "cell_type": "code",
   "execution_count": 6,
   "metadata": {
    "collapsed": true,
    "jupyter": {
     "outputs_hidden": true
    }
   },
   "outputs": [
    {
     "data": {
      "text/plain": [
       "(576949, 9)"
      ]
     },
     "execution_count": 6,
     "metadata": {},
     "output_type": "execute_result"
    }
   ],
   "source": [
    "df.shape"
   ]
  }
 ],
 "metadata": {
  "interpreter": {
   "hash": "b3cc7a562730cfcedb37e1e4bad947332c63ed1d8fb58bdcb9a407011ef5b443"
  },
  "kernelspec": {
   "display_name": "Python 3",
   "language": "python",
   "name": "python3"
  },
  "language_info": {
   "codemirror_mode": {
    "name": "ipython",
    "version": 3
   },
   "file_extension": ".py",
   "mimetype": "text/x-python",
   "name": "python",
   "nbconvert_exporter": "python",
   "pygments_lexer": "ipython3",
   "version": "3.8.5"
  }
 },
 "nbformat": 4,
 "nbformat_minor": 4
}
